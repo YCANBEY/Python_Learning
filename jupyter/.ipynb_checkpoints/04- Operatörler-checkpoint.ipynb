{
 "cells": [
  {
   "cell_type": "markdown",
   "id": "e827a24b",
   "metadata": {},
   "source": [
    "# Aritmetik Operatörler/ İşleç"
   ]
  },
  {
   "cell_type": "code",
   "execution_count": null,
   "id": "1f5d62c5",
   "metadata": {},
   "outputs": [],
   "source": [
    "# +\n",
    "# -\n",
    "# /\n",
    "# *\n",
    "# %\n",
    "# **\n",
    "# //"
   ]
  },
  {
   "cell_type": "code",
   "execution_count": null,
   "id": "b374ace7",
   "metadata": {},
   "outputs": [],
   "source": []
  },
  {
   "cell_type": "markdown",
   "id": "cd4c1e74",
   "metadata": {},
   "source": [
    "# Karşılaştırma Operatörleri"
   ]
  },
  {
   "cell_type": "code",
   "execution_count": null,
   "id": "355c5bee",
   "metadata": {},
   "outputs": [],
   "source": [
    "# >\n",
    "# <\n",
    "# >=\n",
    "# <=\n",
    "# ==\n",
    "# !="
   ]
  },
  {
   "cell_type": "code",
   "execution_count": 7,
   "id": "46b9e7a7",
   "metadata": {},
   "outputs": [
    {
     "name": "stdout",
     "output_type": "stream",
     "text": [
      "False\n",
      "True\n",
      "False\n",
      "True\n",
      "False\n",
      "True\n"
     ]
    }
   ],
   "source": [
    "a = 5\n",
    "b = 10\n",
    "\n",
    "print(a > b)  # a is greater than b\n",
    "print(a < b)  # a is smaller than b\n",
    "print(a >= b) # a is greater than b or a is equal to b\n",
    "print(a <= b) # a is smaller than b or a is equal to b\n",
    "print(a == b) # a is equal to b\n",
    "print(a != b) # a is not equal to b"
   ]
  },
  {
   "cell_type": "markdown",
   "id": "41293a3d",
   "metadata": {},
   "source": [
    "# Atama Operatörleri"
   ]
  },
  {
   "cell_type": "code",
   "execution_count": 8,
   "id": "53b3862a",
   "metadata": {},
   "outputs": [],
   "source": [
    "# =\n",
    "# +=\n",
    "# -=\n",
    "# *=\n",
    "# /=\n",
    "# %=\n",
    "# **=\n",
    "# //="
   ]
  },
  {
   "cell_type": "code",
   "execution_count": 15,
   "id": "848c8cc1",
   "metadata": {},
   "outputs": [
    {
     "name": "stdout",
     "output_type": "stream",
     "text": [
      "sayi1 =  6\n",
      "sayi2 =  8\n",
      "sayi3 =  15\n",
      "sayi4 =  6.0\n",
      "sayi5 =  1\n",
      "sayi6 =  216\n",
      "sayi7 =  3\n"
     ]
    }
   ],
   "source": [
    "sayi1 = 5\n",
    "sayi1 += 1 # \"sayi1 = 5 + 1 ya da sayi1 = sayi1 + 1\" yerine yazılır.\n",
    "\n",
    "sayi2 = 10\n",
    "sayi2 -= 2\n",
    "\n",
    "sayi3 = 3\n",
    "sayi3 *= 5\n",
    "\n",
    "sayi4 = 30\n",
    "sayi4 /= 5\n",
    "\n",
    "sayi5 = 13\n",
    "sayi5 %= 3\n",
    "\n",
    "sayi6 = 6\n",
    "sayi6 **= 3\n",
    "\n",
    "sayi7 = 7\n",
    "sayi7 //= 2\n",
    "\n",
    "print(\"sayi1 = \" , sayi1)\n",
    "print(\"sayi2 = \" , sayi2)\n",
    "print(\"sayi3 = \" , sayi3)\n",
    "print(\"sayi4 = \" , sayi4)\n",
    "print(\"sayi5 = \" , sayi5)\n",
    "print(\"sayi6 = \" , sayi6)\n",
    "print(\"sayi7 = \" , sayi7)"
   ]
  },
  {
   "cell_type": "markdown",
   "id": "660d33d2",
   "metadata": {},
   "source": [
    "# Mantıksal Operatörler"
   ]
  },
  {
   "cell_type": "code",
   "execution_count": 16,
   "id": "7cdc1f49",
   "metadata": {},
   "outputs": [],
   "source": [
    "# and : Birisi koşulu sağlamazsa false\n",
    "# or  : Birisi koşulu sağlarsa true\n",
    "# not : Olumsuz yani tersi diyebiliriz"
   ]
  },
  {
   "cell_type": "code",
   "execution_count": 17,
   "id": "628dba78",
   "metadata": {},
   "outputs": [
    {
     "data": {
      "text/plain": [
       "True"
      ]
     },
     "execution_count": 17,
     "metadata": {},
     "output_type": "execute_result"
    }
   ],
   "source": [
    "x = \"Ankara\"\n",
    "y = \"İstanbul\"\n",
    "\n",
    "x == \"Ankara\" and y == \"İstanbul\" # ikisi de koşulu sağlarsa true\n"
   ]
  },
  {
   "cell_type": "code",
   "execution_count": 18,
   "id": "ee8367b5",
   "metadata": {},
   "outputs": [
    {
     "data": {
      "text/plain": [
       "False"
      ]
     },
     "execution_count": 18,
     "metadata": {},
     "output_type": "execute_result"
    }
   ],
   "source": [
    "x == \"Ankara\" and y == \"Bursa\" # birisi koşulu sağlamazsa false"
   ]
  },
  {
   "cell_type": "code",
   "execution_count": 19,
   "id": "c63d576e",
   "metadata": {},
   "outputs": [
    {
     "data": {
      "text/plain": [
       "True"
      ]
     },
     "execution_count": 19,
     "metadata": {},
     "output_type": "execute_result"
    }
   ],
   "source": [
    "x == \"Ankara\" or y == \"Bursa\" # birisi koşulu sağladığı için true"
   ]
  },
  {
   "cell_type": "code",
   "execution_count": 20,
   "id": "1c7f6f09",
   "metadata": {},
   "outputs": [
    {
     "data": {
      "text/plain": [
       "True"
      ]
     },
     "execution_count": 20,
     "metadata": {},
     "output_type": "execute_result"
    }
   ],
   "source": [
    "sayii = 10\n",
    "sayii2 = 15\n",
    "\n",
    "not sayii2 < sayii2"
   ]
  },
  {
   "cell_type": "markdown",
   "id": "1c0c23c2",
   "metadata": {},
   "source": [
    "# Kimlik Operatörleri"
   ]
  },
  {
   "cell_type": "code",
   "execution_count": 26,
   "id": "adfae6ae",
   "metadata": {},
   "outputs": [],
   "source": [
    "# is : dır,dir, olmak\n",
    "# is not :"
   ]
  },
  {
   "cell_type": "code",
   "execution_count": 27,
   "id": "5873d1aa",
   "metadata": {},
   "outputs": [
    {
     "data": {
      "text/plain": [
       "True"
      ]
     },
     "execution_count": 27,
     "metadata": {},
     "output_type": "execute_result"
    }
   ],
   "source": [
    "sayii3 = 50\n",
    "sayii4 = 50\n",
    "\n",
    "sayii3 is sayii4 # sayii3 sayii4'tür"
   ]
  },
  {
   "cell_type": "code",
   "execution_count": 28,
   "id": "db66f5f9",
   "metadata": {},
   "outputs": [
    {
     "data": {
      "text/plain": [
       "False"
      ]
     },
     "execution_count": 28,
     "metadata": {},
     "output_type": "execute_result"
    }
   ],
   "source": [
    "not sayii3 is sayii4 # sayii3 sayii4 değildir"
   ]
  },
  {
   "cell_type": "markdown",
   "id": "ff300c8b",
   "metadata": {},
   "source": [
    "# Üyelik Operatörleri"
   ]
  },
  {
   "cell_type": "code",
   "execution_count": 29,
   "id": "abf784fa",
   "metadata": {},
   "outputs": [],
   "source": [
    "# in : içinde var\n",
    "# not in : içinde yok"
   ]
  },
  {
   "cell_type": "code",
   "execution_count": 30,
   "id": "07ee77ff",
   "metadata": {},
   "outputs": [
    {
     "data": {
      "text/plain": [
       "True"
      ]
     },
     "execution_count": 30,
     "metadata": {},
     "output_type": "execute_result"
    }
   ],
   "source": [
    "liste = [1,2,3,4,5]\n",
    "\n",
    "3 in liste"
   ]
  },
  {
   "cell_type": "code",
   "execution_count": 31,
   "id": "bfa5a0ad",
   "metadata": {},
   "outputs": [
    {
     "data": {
      "text/plain": [
       "False"
      ]
     },
     "execution_count": 31,
     "metadata": {},
     "output_type": "execute_result"
    }
   ],
   "source": [
    "not 3 in liste\n"
   ]
  }
 ],
 "metadata": {
  "kernelspec": {
   "display_name": "Python 3 (ipykernel)",
   "language": "python",
   "name": "python3"
  },
  "language_info": {
   "codemirror_mode": {
    "name": "ipython",
    "version": 3
   },
   "file_extension": ".py",
   "mimetype": "text/x-python",
   "name": "python",
   "nbconvert_exporter": "python",
   "pygments_lexer": "ipython3",
   "version": "3.10.9"
  }
 },
 "nbformat": 4,
 "nbformat_minor": 5
}
