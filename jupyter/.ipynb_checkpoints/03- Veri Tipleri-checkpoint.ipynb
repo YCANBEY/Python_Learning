{
 "cells": [
  {
   "cell_type": "markdown",
   "id": "9af44af5",
   "metadata": {},
   "source": [
    "# Veri Tipleri\n",
    "\n",
    "String \"Python\"\n",
    "İnteger 1,2,3,4,5,-5,0\n",
    "Float 1.5 , 3.3 , -4.4 , 1.0 , 0.0\n",
    "Bool True, False\n",
    "(koleksiyonlar)\n",
    "Liste [1,2,3,5,True,False,[]]\n",
    "Tupple {} -Demet\n",
    "Dict {}   -Sözlük\n",
    "Set {}    -Küme"
   ]
  },
  {
   "cell_type": "markdown",
   "id": "22433fc4",
   "metadata": {},
   "source": [
    "# String"
   ]
  },
  {
   "cell_type": "code",
   "execution_count": 5,
   "id": "aad2faab",
   "metadata": {},
   "outputs": [
    {
     "data": {
      "text/plain": [
       "int"
      ]
     },
     "execution_count": 5,
     "metadata": {},
     "output_type": "execute_result"
    }
   ],
   "source": [
    "# değişkenin tipini öğrenmek için type(içine değişken)\n",
    "type(5)\n"
   ]
  },
  {
   "cell_type": "code",
   "execution_count": 6,
   "id": "d8e9b5d1",
   "metadata": {},
   "outputs": [
    {
     "data": {
      "text/plain": [
       "str"
      ]
     },
     "execution_count": 6,
     "metadata": {},
     "output_type": "execute_result"
    }
   ],
   "source": [
    "# çift tırnak içine yazılanlar string olarak döner\n",
    "type(\"5\")"
   ]
  },
  {
   "cell_type": "code",
   "execution_count": 7,
   "id": "e6e84f40",
   "metadata": {},
   "outputs": [
    {
     "data": {
      "text/plain": [
       "str"
      ]
     },
     "execution_count": 7,
     "metadata": {},
     "output_type": "execute_result"
    }
   ],
   "source": [
    "type(\"Merhaba\")"
   ]
  },
  {
   "cell_type": "code",
   "execution_count": 8,
   "id": "de4f2b00",
   "metadata": {},
   "outputs": [
    {
     "data": {
      "text/plain": [
       "str"
      ]
     },
     "execution_count": 8,
     "metadata": {},
     "output_type": "execute_result"
    }
   ],
   "source": [
    "type(\"a\")"
   ]
  },
  {
   "cell_type": "code",
   "execution_count": 10,
   "id": "6d2b8ca3",
   "metadata": {},
   "outputs": [
    {
     "name": "stdout",
     "output_type": "stream",
     "text": [
      "A\n",
      "l\n",
      "a\n"
     ]
    }
   ],
   "source": [
    "# indexler sayılmaya sıfırdan başlar.\n",
    "# Algoritma kelimesinin 0. indeksi A dır , 1. indeksi l , -1. indeksi en son harfimiz olan a'dır.\n",
    "# Boşlukta bir karakter olarak sayılır.\n",
    "x = (\"Algoritma\")\n",
    "print(x[0])\n",
    "print(x[1])\n",
    "print(x[-1])"
   ]
  },
  {
   "cell_type": "code",
   "execution_count": 13,
   "id": "52ebbeba",
   "metadata": {},
   "outputs": [
    {
     "name": "stdout",
     "output_type": "stream",
     "text": [
      "Alg\n",
      "orit\n",
      "goritma\n"
     ]
    }
   ],
   "source": [
    "# Eğer stringin belli bir kısmını almak istersek Start : Stop\n",
    "# Yani iki nokta üst üstenin öncesi başlamak istediğimiz indeks , sonrası bitirmek istediğimiz indeks\n",
    "# Diyelim ki şöyle yazdık 3:5 , 3. indeksten başlayıp 5. indekse kadar yazar (5. indeksi yazmaz !!!)\n",
    "# 3: diye bırakırsak 3. indeksten başlar ve sonuna kadar gider\n",
    "# Unutmamamız gereken şey ilk indeks 0\n",
    "print(x[0:3])\n",
    "print(x[3:7])\n",
    "print(x[2:])"
   ]
  },
  {
   "cell_type": "code",
   "execution_count": 16,
   "id": "e9326034",
   "metadata": {},
   "outputs": [
    {
     "name": "stdout",
     "output_type": "stream",
     "text": [
      "lgor\n",
      "lo\n"
     ]
    }
   ],
   "source": [
    "# Start : Stop : Step (Step kısmı kaç adımla gideceğimizi belirler)\n",
    "print(x[1:5:1])\n",
    "# Yukarıdaki örnekte tek tek ilerlemiştir, alttaki örnekte l ile başlamış daha sonra g'yi atlayıp o'ya gelmiştir\n",
    "# yani 2 adımla gitmiştir \n",
    "print(x[1:5:2])"
   ]
  },
  {
   "cell_type": "code",
   "execution_count": 19,
   "id": "62814ed7",
   "metadata": {},
   "outputs": [
    {
     "name": "stdout",
     "output_type": "stream",
     "text": [
      "PythonÖğreniyorum\n",
      "Python Öğreniyorum\n"
     ]
    }
   ],
   "source": [
    "a = \"Python\"\n",
    "b = \"Öğreniyorum\"\n",
    "print(a+b) # bu şekilde yazarsak PythonÖğreniyorum şeklinde yazar\n",
    "print(a,b) # bu şekilde yazarsak Python Öğreniyorum şeklinde iki ayrı kelime"
   ]
  },
  {
   "cell_type": "code",
   "execution_count": 21,
   "id": "1aef0d58",
   "metadata": {},
   "outputs": [
    {
     "name": "stdout",
     "output_type": "stream",
     "text": [
      "Python\n",
      "Öğreniyorum\n",
      "Python\tÖğreniyorum\n"
     ]
    }
   ],
   "source": [
    "print (\"Python\\nÖğreniyorum\") # alt alta yazmak için \\n\n",
    "print (\"Python\\tÖğreniyorum\") # bir tab boşluk bırakarak yazmak için \\t"
   ]
  },
  {
   "cell_type": "code",
   "execution_count": 24,
   "id": "7dfa416d",
   "metadata": {},
   "outputs": [
    {
     "name": "stdout",
     "output_type": "stream",
     "text": [
      "Python\n",
      "Öğreniyorum\n"
     ]
    }
   ],
   "source": [
    "print(a + \"\\n\" + b) # değişkenleri yazarken de bu şekilde yazabiliriz"
   ]
  },
  {
   "cell_type": "code",
   "execution_count": 25,
   "id": "7a186717",
   "metadata": {},
   "outputs": [],
   "source": [
    "# a.tab tuşuna basarsak; a değişkeni ile neler yapabileceğimizi görmüş oluruz."
   ]
  },
  {
   "cell_type": "code",
   "execution_count": 30,
   "id": "b947d5e6",
   "metadata": {},
   "outputs": [
    {
     "data": {
      "text/plain": [
       "6"
      ]
     },
     "execution_count": 30,
     "metadata": {},
     "output_type": "execute_result"
    }
   ],
   "source": [
    "len(a) # a değişkeninin uzunluğunu söyler"
   ]
  },
  {
   "cell_type": "code",
   "execution_count": 35,
   "id": "4c5c3a0d",
   "metadata": {},
   "outputs": [
    {
     "data": {
      "text/plain": [
       "'PYTHON'"
      ]
     },
     "execution_count": 35,
     "metadata": {},
     "output_type": "execute_result"
    }
   ],
   "source": [
    "a.upper() # a.tab'a basıp seçeneklerden upper'ı seçtiğimiz zaman bu komutun harfleri büyüttüğünü görüyoruz"
   ]
  },
  {
   "cell_type": "code",
   "execution_count": 36,
   "id": "0362c122",
   "metadata": {},
   "outputs": [
    {
     "data": {
      "text/plain": [
       "'python'"
      ]
     },
     "execution_count": 36,
     "metadata": {},
     "output_type": "execute_result"
    }
   ],
   "source": [
    "a.lower() # tam tersi"
   ]
  },
  {
   "cell_type": "code",
   "execution_count": 38,
   "id": "2ef4beae",
   "metadata": {},
   "outputs": [
    {
     "data": {
      "text/plain": [
       "'Ben'"
      ]
     },
     "execution_count": 38,
     "metadata": {},
     "output_type": "execute_result"
    }
   ],
   "source": [
    "c = \"ben\"\n",
    "c.capitalize() # Bu ilk harfi büyük yapar"
   ]
  },
  {
   "cell_type": "code",
   "execution_count": 1,
   "id": "18509046",
   "metadata": {},
   "outputs": [
    {
     "data": {
      "text/plain": [
       "'Tanrı Türkü Korusun'"
      ]
     },
     "execution_count": 1,
     "metadata": {},
     "output_type": "execute_result"
    }
   ],
   "source": [
    "d = \"tanrı türkü korusun\"\n",
    "d.title() # Bu ise kelimelerin ilk harflerini büyük yapar."
   ]
  },
  {
   "cell_type": "markdown",
   "id": "d4176d63",
   "metadata": {},
   "source": [
    "# Integer & Float\n"
   ]
  },
  {
   "cell_type": "code",
   "execution_count": 6,
   "id": "a6d51981",
   "metadata": {},
   "outputs": [
    {
     "data": {
      "text/plain": [
       "1875.0"
      ]
     },
     "execution_count": 6,
     "metadata": {},
     "output_type": "execute_result"
    }
   ],
   "source": [
    "sayi1 = 5\n",
    "sayi2= 25.0\n",
    "\n",
    "sayi1 * sayi2 * (10+5)"
   ]
  },
  {
   "cell_type": "code",
   "execution_count": 8,
   "id": "3a333ef9",
   "metadata": {},
   "outputs": [
    {
     "data": {
      "text/plain": [
       "float"
      ]
     },
     "execution_count": 8,
     "metadata": {},
     "output_type": "execute_result"
    }
   ],
   "source": [
    "type(sayi2) # type(sayi1) int döner."
   ]
  },
  {
   "cell_type": "code",
   "execution_count": 10,
   "id": "a0ba1f53",
   "metadata": {},
   "outputs": [
    {
     "data": {
      "text/plain": [
       "625"
      ]
     },
     "execution_count": 10,
     "metadata": {},
     "output_type": "execute_result"
    }
   ],
   "source": [
    "sayi1**4 # ** üs almaydı"
   ]
  },
  {
   "cell_type": "code",
   "execution_count": 11,
   "id": "b9b4f272",
   "metadata": {},
   "outputs": [
    {
     "name": "stdout",
     "output_type": "stream",
     "text": [
      "Yaşınızı giriniz:18\n"
     ]
    },
    {
     "data": {
      "text/plain": [
       "'18'"
      ]
     },
     "execution_count": 11,
     "metadata": {},
     "output_type": "execute_result"
    }
   ],
   "source": [
    "yas = input(\"Yaşınızı giriniz:\") # birisinden girdi almak için input kullan.\n",
    "yas"
   ]
  },
  {
   "cell_type": "code",
   "execution_count": 12,
   "id": "16d0d57a",
   "metadata": {},
   "outputs": [
    {
     "data": {
      "text/plain": [
       "str"
      ]
     },
     "execution_count": 12,
     "metadata": {},
     "output_type": "execute_result"
    }
   ],
   "source": [
    "type(yas) # inputtan gelen değerler string olarak gelir!!"
   ]
  },
  {
   "cell_type": "code",
   "execution_count": 13,
   "id": "0f94bbfe",
   "metadata": {},
   "outputs": [
    {
     "name": "stdout",
     "output_type": "stream",
     "text": [
      "Yaşınızı giriniz:18\n",
      "Yaşınızı giriniz:18\n"
     ]
    },
    {
     "data": {
      "text/plain": [
       "'1818'"
      ]
     },
     "execution_count": 13,
     "metadata": {},
     "output_type": "execute_result"
    }
   ],
   "source": [
    "yas1 = input(\"Yaşınızı giriniz:\")\n",
    "yas2 = input(\"Yaşınızı giriniz:\")\n",
    "\n",
    "yas1 + yas2\n",
    "\n",
    "# string gibi düşünüceği için çıktı 1818 olarak çıkar."
   ]
  },
  {
   "cell_type": "code",
   "execution_count": 18,
   "id": "b68064d3",
   "metadata": {},
   "outputs": [
    {
     "name": "stdout",
     "output_type": "stream",
     "text": [
      "Yaşınızı giriniz:18\n",
      "Yaşınızı giriniz:18\n"
     ]
    },
    {
     "data": {
      "text/plain": [
       "36"
      ]
     },
     "execution_count": 18,
     "metadata": {},
     "output_type": "execute_result"
    }
   ],
   "source": [
    "# inputtan gelen bilgiyi int'e çevirirsek 1818 yazma durumunu engelleriz\n",
    "# int yerine float yazarsak float olarak verir.\n",
    "yas1 = int (input(\"Yaşınızı giriniz:\")) \n",
    "yas2 = int (input(\"Yaşınızı giriniz:\"))\n",
    "\n",
    "yas1 + yas2\n"
   ]
  },
  {
   "cell_type": "markdown",
   "id": "bed6f964",
   "metadata": {},
   "source": [
    "# Boolean"
   ]
  },
  {
   "cell_type": "code",
   "execution_count": 3,
   "id": "0fa1d935",
   "metadata": {},
   "outputs": [
    {
     "data": {
      "text/plain": [
       "True"
      ]
     },
     "execution_count": 3,
     "metadata": {},
     "output_type": "execute_result"
    }
   ],
   "source": [
    "garan = 30.50\n",
    "thyao = 150.75\n",
    "# tek '=' atama operatörü\n",
    "# çift '=' soru\n",
    "garan == 30.50"
   ]
  },
  {
   "cell_type": "code",
   "execution_count": 4,
   "id": "a7bc4b2d",
   "metadata": {},
   "outputs": [
    {
     "data": {
      "text/plain": [
       "False"
      ]
     },
     "execution_count": 4,
     "metadata": {},
     "output_type": "execute_result"
    }
   ],
   "source": [
    "thyao == 150"
   ]
  },
  {
   "cell_type": "code",
   "execution_count": 6,
   "id": "eef93bd3",
   "metadata": {},
   "outputs": [
    {
     "data": {
      "text/plain": [
       "True"
      ]
     },
     "execution_count": 6,
     "metadata": {},
     "output_type": "execute_result"
    }
   ],
   "source": [
    "garan != 30.60 # != olunca değildir yani ters soru"
   ]
  },
  {
   "cell_type": "code",
   "execution_count": 7,
   "id": "a2a0f9ff",
   "metadata": {},
   "outputs": [
    {
     "name": "stdout",
     "output_type": "stream",
     "text": [
      "True\n",
      "False\n",
      "True\n"
     ]
    }
   ],
   "source": [
    "a = True\n",
    "b = False\n",
    "c = \"True\"\n",
    "print(a)\n",
    "print(b)\n",
    "print(c)"
   ]
  },
  {
   "cell_type": "code",
   "execution_count": 8,
   "id": "20e4e4d1",
   "metadata": {},
   "outputs": [
    {
     "data": {
      "text/plain": [
       "bool"
      ]
     },
     "execution_count": 8,
     "metadata": {},
     "output_type": "execute_result"
    }
   ],
   "source": [
    "type(a)"
   ]
  },
  {
   "cell_type": "code",
   "execution_count": 9,
   "id": "07395c7a",
   "metadata": {},
   "outputs": [
    {
     "data": {
      "text/plain": [
       "str"
      ]
     },
     "execution_count": 9,
     "metadata": {},
     "output_type": "execute_result"
    }
   ],
   "source": [
    "type(c)"
   ]
  },
  {
   "cell_type": "code",
   "execution_count": 10,
   "id": "0388e83d",
   "metadata": {},
   "outputs": [
    {
     "data": {
      "text/plain": [
       "bool"
      ]
     },
     "execution_count": 10,
     "metadata": {},
     "output_type": "execute_result"
    }
   ],
   "source": [
    "type(b)"
   ]
  },
  {
   "cell_type": "code",
   "execution_count": 11,
   "id": "f3ebb347",
   "metadata": {},
   "outputs": [
    {
     "data": {
      "text/plain": [
       "False"
      ]
     },
     "execution_count": 11,
     "metadata": {},
     "output_type": "execute_result"
    }
   ],
   "source": [
    "type(c) == bool"
   ]
  },
  {
   "cell_type": "code",
   "execution_count": 12,
   "id": "c0d70ef4",
   "metadata": {},
   "outputs": [
    {
     "data": {
      "text/plain": [
       "True"
      ]
     },
     "execution_count": 12,
     "metadata": {},
     "output_type": "execute_result"
    }
   ],
   "source": [
    "type(a) == bool"
   ]
  },
  {
   "cell_type": "markdown",
   "id": "71d9bab9",
   "metadata": {},
   "source": [
    "# Listeler"
   ]
  },
  {
   "cell_type": "code",
   "execution_count": 21,
   "id": "edb059f1",
   "metadata": {},
   "outputs": [
    {
     "name": "stdout",
     "output_type": "stream",
     "text": [
      "['b', 2, 3, 'a', True, 3.5]\n"
     ]
    }
   ],
   "source": [
    "mylist = [1,2,3,\"a\",True,3.5] # şu anda boş bir liste oluşturduk\n",
    "\n",
    "meslek = \"Algoritmik Trade\"\n",
    "\n",
    "# meslek[0] = \"b\" yani 0'ıncı indisi b olarak değiştir dediğimizde hata verir\n",
    "# ama burada mylist[0] = \"b\" dersek hata vermez\n",
    "mylist[0] = \"b\"\n",
    "print(mylist)"
   ]
  },
  {
   "cell_type": "code",
   "execution_count": 22,
   "id": "6477ae8d",
   "metadata": {},
   "outputs": [],
   "source": [
    "# Listeye dışardan bir ekleme yapmak istersek bunu liste formatında yaparız\n",
    "# bunun için append methodunu kullanırız\n",
    "benimPortfoy = [\"garan\", \"thy\", \"krdmd\"]\n",
    "benimPortfoy.append(\"petkm\") # listenin sonuna ekledik"
   ]
  },
  {
   "cell_type": "code",
   "execution_count": 23,
   "id": "341bebd5",
   "metadata": {},
   "outputs": [
    {
     "name": "stdout",
     "output_type": "stream",
     "text": [
      "['garan', 'thy', 'krdmd', 'petkm']\n"
     ]
    }
   ],
   "source": [
    "print(benimPortfoy)"
   ]
  },
  {
   "cell_type": "code",
   "execution_count": 24,
   "id": "c0f18c79",
   "metadata": {},
   "outputs": [
    {
     "name": "stdout",
     "output_type": "stream",
     "text": [
      "['garan', 'sıse', 'thy', 'krdmd', 'petkm']\n"
     ]
    }
   ],
   "source": [
    "# Eğer istediğimiz indekse eklemek istersek insert kullanırız\n",
    "\n",
    "benimPortfoy.insert(1,\"sıse\")\n",
    "print(benimPortfoy)"
   ]
  },
  {
   "cell_type": "code",
   "execution_count": 33,
   "id": "374b558a",
   "metadata": {},
   "outputs": [
    {
     "name": "stdout",
     "output_type": "stream",
     "text": [
      "['garan', 'sıse', 'thy', 'petkm']\n"
     ]
    }
   ],
   "source": [
    "# Listeden bir şey çıkarmak için remove\n",
    "benimPortfoy.remove(\"krdmd\")\n",
    "print(benimPortfoy)\n"
   ]
  },
  {
   "cell_type": "code",
   "execution_count": 34,
   "id": "272f0702",
   "metadata": {},
   "outputs": [
    {
     "name": "stdout",
     "output_type": "stream",
     "text": [
      "['sıse', 'thy', 'petkm']\n"
     ]
    }
   ],
   "source": [
    "# istediğimiz indeksteki bir şeyi silmek istersek pop kullanırız\n",
    "# eğer pop methodunun içine istediğimiz indeksi vermezsek en sondan siler\n",
    "benimPortfoy.pop(0)\n",
    "print(benimPortfoy)"
   ]
  },
  {
   "cell_type": "code",
   "execution_count": 35,
   "id": "d440fcb8",
   "metadata": {},
   "outputs": [
    {
     "name": "stdout",
     "output_type": "stream",
     "text": [
      "['thy', 'krdmd', 'sıse', 'tuprs', 'sasa', 'asels']\n"
     ]
    }
   ],
   "source": [
    "benimPortfoy2 = [\"garan\", \"thy\", \"krdmd\", \"sıse\", \"tuprs\", \"sasa\", \"asels\"]\n",
    "\n",
    "del benimPortfoy2[0]\n",
    "\n",
    "# del'in farkı; eğerki biz indeks numarası vermezsek listeyi komple siler\n",
    "# yazdırmaya kalktığımız zaman hata verir\n",
    "\n",
    "print(benimPortfoy2)"
   ]
  },
  {
   "cell_type": "code",
   "execution_count": 37,
   "id": "ae52a5c8",
   "metadata": {},
   "outputs": [
    {
     "name": "stdout",
     "output_type": "stream",
     "text": [
      "[]\n"
     ]
    }
   ],
   "source": [
    "benimPortfoy3 = [\"garan\", \"thy\", \"krdmd\", \"sıse\", \"tuprs\", \"sasa\", \"asels\"]\n",
    "\n",
    "benimPortfoy3.clear()\n",
    "\n",
    "# del'den farkı listenin içini komple siler \n",
    "# ve listeyi yazdırırken hata vermez\n",
    "\n",
    "print(benimPortfoy3)"
   ]
  },
  {
   "cell_type": "code",
   "execution_count": 43,
   "id": "ddedc15c",
   "metadata": {},
   "outputs": [
    {
     "data": {
      "text/plain": [
       "['garan',\n",
       " 'thy',\n",
       " 'krdmd',\n",
       " 'sıse',\n",
       " 'tuprs',\n",
       " 'sasa',\n",
       " 'asels',\n",
       " ['fgaran', 'fsıse', 'fthyao']]"
      ]
     },
     "execution_count": 43,
     "metadata": {},
     "output_type": "execute_result"
    }
   ],
   "source": [
    "benimPortfoy4 = [\"garan\", \"thy\", \"krdmd\", \"sıse\", \"tuprs\", \"sasa\", \"asels\",\n",
    "                [\"fgaran\", \"fsıse\", \"fthyao\"]]\n",
    "\n",
    "# liste içinde liste yapabiliriz.\n",
    "benimPortfoy4"
   ]
  },
  {
   "cell_type": "markdown",
   "id": "22aced3c",
   "metadata": {},
   "source": [
    "# Tuple"
   ]
  },
  {
   "cell_type": "code",
   "execution_count": 61,
   "id": "3a731bb6",
   "metadata": {},
   "outputs": [
    {
     "name": "stdout",
     "output_type": "stream",
     "text": [
      "<class 'list'>\n",
      "<class 'tuple'>\n"
     ]
    }
   ],
   "source": [
    "takimlarListesi = [\"Galatasaray\", \"Fenerbahçe\", \"Beşiktaş\",\"Trabzonspor\"]\n",
    "takimlarDemeti = (\"Galatasaray\", \"Fenerbahçe\", \"Beşiktaş\",\"Trabzonspor\",\n",
    "                 \"Galatasaray\")\n",
    "\n",
    "# list tanımlarken köşeli parantez\n",
    "# tuple tanımlarken normal parantez\n",
    "\n",
    "print(type(takimlarListesi))\n",
    "print(type(takimlarDemeti))"
   ]
  },
  {
   "cell_type": "code",
   "execution_count": 62,
   "id": "384b63ba",
   "metadata": {},
   "outputs": [],
   "source": [
    "takimlarListesi[2] = \"Başakşehir\"\n",
    "# takimlarDemeti[2] = \"Başakşehir\" # hata verir\n",
    "\n",
    "# listelerde istediğimiz değişikliği yaparken tupellarda yapamayız "
   ]
  },
  {
   "cell_type": "code",
   "execution_count": 63,
   "id": "6f5619b4",
   "metadata": {},
   "outputs": [
    {
     "data": {
      "text/plain": [
       "2"
      ]
     },
     "execution_count": 63,
     "metadata": {},
     "output_type": "execute_result"
    }
   ],
   "source": [
    "takimlarDemeti.count(\"Galatasaray\")\n",
    "\n",
    "# Galatasaray kelimesi kaç kere geçer ona bakıyor\n",
    "\n"
   ]
  },
  {
   "cell_type": "code",
   "execution_count": 64,
   "id": "b9b86c9c",
   "metadata": {},
   "outputs": [
    {
     "data": {
      "text/plain": [
       "0"
      ]
     },
     "execution_count": 64,
     "metadata": {},
     "output_type": "execute_result"
    }
   ],
   "source": [
    "takimlarDemeti.count(True)\n",
    "\n",
    "# Olmayan bir şey girersek hata vermez 0 değeri döner"
   ]
  },
  {
   "cell_type": "code",
   "execution_count": 65,
   "id": "81cad93d",
   "metadata": {},
   "outputs": [
    {
     "data": {
      "text/plain": [
       "1"
      ]
     },
     "execution_count": 65,
     "metadata": {},
     "output_type": "execute_result"
    }
   ],
   "source": [
    "takimlarDemeti.index(\"Fenerbahçe\")\n",
    "\n",
    "# Kaçıncı indexte olduğunu söyler"
   ]
  },
  {
   "cell_type": "code",
   "execution_count": 67,
   "id": "6a6b5bd9",
   "metadata": {},
   "outputs": [
    {
     "data": {
      "text/plain": [
       "0"
      ]
     },
     "execution_count": 67,
     "metadata": {},
     "output_type": "execute_result"
    }
   ],
   "source": [
    "# peki Galatasarayı yazarsak\n",
    "\n",
    "takimlarDemeti.index(\"Galatasaray\")\n",
    "\n",
    "# İlk gördüğü indextekini getiriyor.\n",
    "\n",
    "# İndexin içinde olmayan bir şey girersek hata verir.\n"
   ]
  },
  {
   "cell_type": "code",
   "execution_count": 69,
   "id": "1ed8c3e8",
   "metadata": {},
   "outputs": [
    {
     "data": {
      "text/plain": [
       "0"
      ]
     },
     "execution_count": 69,
     "metadata": {},
     "output_type": "execute_result"
    }
   ],
   "source": [
    "takimlarDemeti.count(\"G\")\n",
    "\n",
    "# Diyelim ki sadece G harfini aratmak istedik o zaman da 0 verir\n",
    "# Çünkü burada yazdığımız şeyin bütününü alıyor ve biz  demete \n",
    "# Kelimeler verdik, bu sebeple tek harfleri falan almaz"
   ]
  },
  {
   "cell_type": "code",
   "execution_count": 73,
   "id": "8978cda4",
   "metadata": {},
   "outputs": [
    {
     "name": "stdout",
     "output_type": "stream",
     "text": [
      "2\n",
      "1\n"
     ]
    }
   ],
   "source": [
    "harflerDemeti = (\"a\", \"b\", \"c\", \"a\",1,2,3,4.5)\n",
    "print(harflerDemeti.count(\"a\"))\n",
    "print(harflerDemeti.count(2))\n",
    "\n",
    "# Böyle yazarsak harfleri sayar"
   ]
  },
  {
   "cell_type": "markdown",
   "id": "d65c7015",
   "metadata": {},
   "source": [
    "# Set"
   ]
  },
  {
   "cell_type": "code",
   "execution_count": 76,
   "id": "0e56c8a8",
   "metadata": {},
   "outputs": [
    {
     "name": "stdout",
     "output_type": "stream",
     "text": [
      "<class 'list'>\n",
      "<class 'list'>\n"
     ]
    }
   ],
   "source": [
    "list1 = []\n",
    "list2 = list()\n",
    "\n",
    "# ikisi aynı şey\n",
    "\n",
    "print(type(list1))\n",
    "print(type(list2))"
   ]
  },
  {
   "cell_type": "code",
   "execution_count": 77,
   "id": "fea8c4ba",
   "metadata": {},
   "outputs": [
    {
     "name": "stdout",
     "output_type": "stream",
     "text": [
      "<class 'tuple'>\n",
      "<class 'tuple'>\n"
     ]
    }
   ],
   "source": [
    "demet1 = ()\n",
    "demet2 = tuple()\n",
    "\n",
    "# ikisi aynı şey\n",
    "\n",
    "print(type(demet1))\n",
    "print(type(demet2))"
   ]
  },
  {
   "cell_type": "code",
   "execution_count": 79,
   "id": "88676e94",
   "metadata": {},
   "outputs": [
    {
     "name": "stdout",
     "output_type": "stream",
     "text": [
      "<class 'dict'>\n",
      "<class 'set'>\n"
     ]
    }
   ],
   "source": [
    "set1 = {}\n",
    "set2 = set()\n",
    "\n",
    "# ikisi farklı, kümeler set2 = set() şeklinde tanımlarız\n",
    "\n",
    "print(type(set1))\n",
    "print(type(set2))"
   ]
  },
  {
   "cell_type": "code",
   "execution_count": 80,
   "id": "72d0fee9",
   "metadata": {},
   "outputs": [
    {
     "data": {
      "text/plain": [
       "set"
      ]
     },
     "execution_count": 80,
     "metadata": {},
     "output_type": "execute_result"
    }
   ],
   "source": [
    "renkler = {\"Yeşil\", \"Sarı\", \"Kırmızı\",  \"Mavi\", \"Beyaz\", \"Pembe\"}\n",
    "\n",
    "type(renkler)"
   ]
  },
  {
   "cell_type": "code",
   "execution_count": 83,
   "id": "cae16a13",
   "metadata": {},
   "outputs": [
    {
     "name": "stdout",
     "output_type": "stream",
     "text": [
      "{'Pembe', 'Sarı', 'Yeşil', 'Beyaz', 'Kırmızı', 'Mavi'}\n"
     ]
    }
   ],
   "source": [
    "# Setler içerisine aynı elemanı alamaz\n",
    "# Setlerde sıralama yoktur yani indexleme yoktur.\n",
    "\n",
    "renkler = {\"Yeşil\", \"Sarı\", \"Kırmızı\",  \"Mavi\", \"Beyaz\", \"Pembe\", \"Yeşil\"}\n",
    "print(renkler)\n",
    "\n",
    "# Yeşil'i iki kere yazmaz"
   ]
  },
  {
   "cell_type": "code",
   "execution_count": 85,
   "id": "bd38f12a",
   "metadata": {},
   "outputs": [
    {
     "data": {
      "text/plain": [
       "True"
      ]
     },
     "execution_count": 85,
     "metadata": {},
     "output_type": "execute_result"
    }
   ],
   "source": [
    "renkler2 = {\"Yeşil\", \"Sarı\", \"Kırmızı\",  \"Mavi\", \"Beyaz\", \"Pembe\"}\n",
    "\n",
    "\"Yeşil\" in renkler2 # Bu şekilde yazarsak bool döner"
   ]
  },
  {
   "cell_type": "code",
   "execution_count": 88,
   "id": "36de1375",
   "metadata": {},
   "outputs": [
    {
     "data": {
      "text/plain": [
       "False"
      ]
     },
     "execution_count": 88,
     "metadata": {},
     "output_type": "execute_result"
    }
   ],
   "source": [
    "not \"Yeşil\" in renkler2 # Tam tersi"
   ]
  },
  {
   "cell_type": "code",
   "execution_count": 89,
   "id": "5655003b",
   "metadata": {},
   "outputs": [
    {
     "name": "stdout",
     "output_type": "stream",
     "text": [
      "{'Pembe', 'Sarı', 'Yeşil', 'Beyaz', 'Kahverengi', 'Kırmızı', 'Mavi'}\n"
     ]
    }
   ],
   "source": [
    "renkler2.add(\"Kahverengi\")\n",
    "print(renkler2)"
   ]
  },
  {
   "cell_type": "code",
   "execution_count": 92,
   "id": "4ab86164",
   "metadata": {},
   "outputs": [
    {
     "name": "stdout",
     "output_type": "stream",
     "text": [
      "{'Pembe', 'Sarı', 'Beyaz', 'Mavi'}\n",
      "{'Sarı', 'Yeşil', 'Beyaz', 'Gri', 'Turuncu', 'Pembe', 'Kırmızı', 'Mavi'}\n"
     ]
    }
   ],
   "source": [
    "renklerA = {\"Yeşil\", \"Sarı\", \"Kırmızı\",  \"Mavi\", \"Beyaz\", \"Pembe\"}\n",
    "renklerB = {\"Mavi\", \"Gri\", \"Sarı\", \"Turuncu\", \"Beyaz\", \"Pembe\"}\n",
    "\n",
    "print(renklerA.intersection(renklerB)) # Ortaklara bakar\n",
    "print(renklerA.union(renklerB)) # Birleştirir ve aynı elemanları bir kere yazar"
   ]
  },
  {
   "cell_type": "markdown",
   "id": "da4cb830",
   "metadata": {},
   "source": [
    "# Dictionary"
   ]
  },
  {
   "cell_type": "code",
   "execution_count": 1,
   "id": "fcb7355b",
   "metadata": {},
   "outputs": [
    {
     "data": {
      "text/plain": [
       "dict"
      ]
     },
     "execution_count": 1,
     "metadata": {},
     "output_type": "execute_result"
    }
   ],
   "source": [
    "benimSozluk = {}\n",
    "\n",
    "type(benimSozluk)"
   ]
  },
  {
   "cell_type": "code",
   "execution_count": 4,
   "id": "6380bbd1",
   "metadata": {},
   "outputs": [],
   "source": [
    "# ilk önce bir key ister sonra : sonra value\n",
    "# key yani anahtar kelime, value ise açıklama\n",
    "benimSozluk = {\"acıklı\": \"Acındıracak, acıverecek nitelikte olan, dokunaklı, koygun\"}"
   ]
  },
  {
   "cell_type": "code",
   "execution_count": 5,
   "id": "bb0cd3e5",
   "metadata": {},
   "outputs": [
    {
     "name": "stdout",
     "output_type": "stream",
     "text": [
      "{'acıklı': 'Acındıracak, acıverecek nitelikte olan, dokunaklı, koygun'}\n"
     ]
    }
   ],
   "source": [
    "print(benimSozluk)"
   ]
  },
  {
   "cell_type": "code",
   "execution_count": 7,
   "id": "1f7ed7ba",
   "metadata": {},
   "outputs": [
    {
     "name": "stdout",
     "output_type": "stream",
     "text": [
      "{'FGARAN': 450, 'FTHYAO': 1500, 'FPETKM': 500}\n"
     ]
    }
   ],
   "source": [
    "kontratFiyatlari = {\"FGARAN\":450, \"FTHYAO\":1500, \"FPETKM\":500}\n",
    "\n",
    "print(kontratFiyatlari)"
   ]
  },
  {
   "cell_type": "code",
   "execution_count": 9,
   "id": "99c6b92d",
   "metadata": {},
   "outputs": [
    {
     "name": "stdout",
     "output_type": "stream",
     "text": [
      "{'Ali': 80, 'Ahmet': 70, 'Can': 90}\n"
     ]
    }
   ],
   "source": [
    "ogrenciNotlari = {\"Ali\":80, \"Ahmet\":70, \"Can\":90}\n",
    "\n",
    "print(ogrenciNotlari)"
   ]
  },
  {
   "cell_type": "code",
   "execution_count": 10,
   "id": "0c06548e",
   "metadata": {},
   "outputs": [
    {
     "data": {
      "text/plain": [
       "3"
      ]
     },
     "execution_count": 10,
     "metadata": {},
     "output_type": "execute_result"
    }
   ],
   "source": [
    "len(kontratFiyatlari)"
   ]
  },
  {
   "cell_type": "code",
   "execution_count": 13,
   "id": "7337e645",
   "metadata": {},
   "outputs": [
    {
     "name": "stdout",
     "output_type": "stream",
     "text": [
      "Python öğrenmek çok güzel\n",
      "25\n"
     ]
    }
   ],
   "source": [
    "message = \"Python öğrenmek çok güzel\"\n",
    "# eğer araya del message yazarsam print del dediğimde hata verir\n",
    "print(message)\n",
    "print(len(message))"
   ]
  },
  {
   "cell_type": "code",
   "execution_count": 14,
   "id": "a9dd8eb2",
   "metadata": {},
   "outputs": [
    {
     "data": {
      "text/plain": [
       "False"
      ]
     },
     "execution_count": 14,
     "metadata": {},
     "output_type": "execute_result"
    }
   ],
   "source": [
    "# sözlükler de in de kullanabiliriz, sözlük içinde arama için\n",
    "\n",
    "\"fgaran\" in kontratFiyatlari\n"
   ]
  },
  {
   "cell_type": "code",
   "execution_count": 16,
   "id": "1285fb48",
   "metadata": {},
   "outputs": [
    {
     "data": {
      "text/plain": [
       "True"
      ]
     },
     "execution_count": 16,
     "metadata": {},
     "output_type": "execute_result"
    }
   ],
   "source": [
    "not \"fgaran\" in kontratFiyatlari\n",
    "\n",
    "# Büyük,küçük harf duyarlıdır"
   ]
  },
  {
   "cell_type": "code",
   "execution_count": 17,
   "id": "d1833ea1",
   "metadata": {},
   "outputs": [
    {
     "data": {
      "text/plain": [
       "True"
      ]
     },
     "execution_count": 17,
     "metadata": {},
     "output_type": "execute_result"
    }
   ],
   "source": [
    "\"FGARAN\" in kontratFiyatlari"
   ]
  },
  {
   "cell_type": "code",
   "execution_count": 19,
   "id": "a285975b",
   "metadata": {},
   "outputs": [
    {
     "name": "stdout",
     "output_type": "stream",
     "text": [
      "{'FGARAN': {'Kontral fiyatı': 450}, 'FTHYAO': 1500, 'FPETKM': 500}\n"
     ]
    }
   ],
   "source": [
    "# Sözlüğün içine yeni sözlük ekleme\n",
    "\n",
    "kontratFiyatlari = {\"FGARAN\":{\"Kontral fiyatı\": 450},\n",
    "                    \"FTHYAO\":1500, \"FPETKM\":500}\n",
    "\n",
    "print(kontratFiyatlari)"
   ]
  },
  {
   "cell_type": "code",
   "execution_count": 20,
   "id": "5ab06ffe",
   "metadata": {},
   "outputs": [
    {
     "name": "stdout",
     "output_type": "stream",
     "text": [
      "{'FGARAN': ['Kontrat fiyatı', 450], 'FTHYAO': 1500, 'FPETKM': 500}\n"
     ]
    }
   ],
   "source": [
    "# Sözlük içine list ekleme\n",
    "\n",
    "kontratFiyatlari = {\"FGARAN\":[\"Kontrat fiyatı\",450],\n",
    "                    \"FTHYAO\":1500, \"FPETKM\":500}\n",
    "\n",
    "print(kontratFiyatlari)"
   ]
  },
  {
   "cell_type": "code",
   "execution_count": 44,
   "id": "60dc6878",
   "metadata": {},
   "outputs": [
    {
     "name": "stdout",
     "output_type": "stream",
     "text": [
      "{'FGARAN': {'Dayanak Varlık': 'GARAN', 'Sözleşme Büyüklüğü': 100, 'Teminat': 415, 'Kaldıraç': 5}, 'X30YVADE': {'Dayanak Varlık': 'XU030', 'Sözleşme Büyüklüğü': 10, 'Teminat': 7150, 'Kaldıraç': 8}, 'FTHYAO': {'Dayanak Varlık': 'THYAO', 'Sözleşme Büyüklüğü': 100, 'Teminat': 2525, 'Kaldıraç': 6}}\n"
     ]
    }
   ],
   "source": [
    "viopKontratlar = {\n",
    "    \"FGARAN\":{\"Dayanak Varlık\":\"GARAN\",\"Sözleşme Büyüklüğü\":100,\"Teminat\":415,\"Kaldıraç\":5},\n",
    "    \"X30YVADE\":{\"Dayanak Varlık\":\"XU030\",\"Sözleşme Büyüklüğü\":10,\"Teminat\":7150,\"Kaldıraç\":8},\n",
    "    \"FTHYAO\":{\"Dayanak Varlık\":\"THYAO\",\"Sözleşme Büyüklüğü\":100,\"Teminat\":2525,\"Kaldıraç\":6}\n",
    "}\n",
    "\n",
    "print(deneme)\n",
    "          "
   ]
  },
  {
   "cell_type": "code",
   "execution_count": 45,
   "id": "a5b7deb2",
   "metadata": {},
   "outputs": [
    {
     "data": {
      "text/plain": [
       "{'Dayanak Varlık': 'XU030',\n",
       " 'Sözleşme Büyüklüğü': 10,\n",
       " 'Teminat': 7150,\n",
       " 'Kaldıraç': 8}"
      ]
     },
     "execution_count": 45,
     "metadata": {},
     "output_type": "execute_result"
    }
   ],
   "source": [
    "viopKontratlar[\"X30YVADE\"]"
   ]
  },
  {
   "cell_type": "code",
   "execution_count": 46,
   "id": "8883368a",
   "metadata": {},
   "outputs": [
    {
     "data": {
      "text/plain": [
       "dict_keys(['FGARAN', 'X30YVADE', 'FTHYAO'])"
      ]
     },
     "execution_count": 46,
     "metadata": {},
     "output_type": "execute_result"
    }
   ],
   "source": [
    "viopKontratlar.keys() # sadece keyler gelir"
   ]
  },
  {
   "cell_type": "code",
   "execution_count": 47,
   "id": "1c09bfb8",
   "metadata": {},
   "outputs": [
    {
     "data": {
      "text/plain": [
       "dict_values([{'Dayanak Varlık': 'GARAN', 'Sözleşme Büyüklüğü': 100, 'Teminat': 415, 'Kaldıraç': 5}, {'Dayanak Varlık': 'XU030', 'Sözleşme Büyüklüğü': 10, 'Teminat': 7150, 'Kaldıraç': 8}, {'Dayanak Varlık': 'THYAO', 'Sözleşme Büyüklüğü': 100, 'Teminat': 2525, 'Kaldıraç': 6}])"
      ]
     },
     "execution_count": 47,
     "metadata": {},
     "output_type": "execute_result"
    }
   ],
   "source": [
    "viopKontratlar.values() # keylere verdiğimiz değerler gelir"
   ]
  },
  {
   "cell_type": "code",
   "execution_count": 48,
   "id": "2d1ecb74",
   "metadata": {},
   "outputs": [
    {
     "data": {
      "text/plain": [
       "dict_items([('FGARAN', {'Dayanak Varlık': 'GARAN', 'Sözleşme Büyüklüğü': 100, 'Teminat': 415, 'Kaldıraç': 5}), ('X30YVADE', {'Dayanak Varlık': 'XU030', 'Sözleşme Büyüklüğü': 10, 'Teminat': 7150, 'Kaldıraç': 8}), ('FTHYAO', {'Dayanak Varlık': 'THYAO', 'Sözleşme Büyüklüğü': 100, 'Teminat': 2525, 'Kaldıraç': 6})])"
      ]
     },
     "execution_count": 48,
     "metadata": {},
     "output_type": "execute_result"
    }
   ],
   "source": [
    "viopKontratlar.items() # hem keys hemde values gelir"
   ]
  },
  {
   "cell_type": "code",
   "execution_count": 50,
   "id": "f2a9802d",
   "metadata": {},
   "outputs": [
    {
     "name": "stdout",
     "output_type": "stream",
     "text": [
      "Kontrat ismi giriniz: FGARAN\n"
     ]
    },
    {
     "data": {
      "text/plain": [
       "{'Dayanak Varlık': 'GARAN',\n",
       " 'Sözleşme Büyüklüğü': 100,\n",
       " 'Teminat': 415,\n",
       " 'Kaldıraç': 5}"
      ]
     },
     "execution_count": 50,
     "metadata": {},
     "output_type": "execute_result"
    }
   ],
   "source": [
    "girdi = input(\"Kontrat ismi giriniz: \")\n",
    "\n",
    "# get iki parametre alır, birincisi sorgulayacağımız yapı\n",
    "# ikinci parametre, kullanıcıya gösterilecek mesaj\n",
    "\n",
    "viopKontratlar.get(girdi, \"Girdiğiniz isim sözlükte yoktur\")"
   ]
  },
  {
   "cell_type": "code",
   "execution_count": 51,
   "id": "4f7d1b5f",
   "metadata": {},
   "outputs": [
    {
     "name": "stdout",
     "output_type": "stream",
     "text": [
      "Kontrat ismi giriniz:fgaran\n"
     ]
    },
    {
     "data": {
      "text/plain": [
       "'Girdiğiniz isim sözlükte yoktur'"
      ]
     },
     "execution_count": 51,
     "metadata": {},
     "output_type": "execute_result"
    }
   ],
   "source": [
    "girdi2 = input(\"Kontrat ismi giriniz:\")\n",
    "viopKontratlar.get(girdi2,\"Girdiğiniz isim sözlükte yoktur\")"
   ]
  },
  {
   "cell_type": "code",
   "execution_count": 53,
   "id": "3c9e3a22",
   "metadata": {},
   "outputs": [
    {
     "name": "stdout",
     "output_type": "stream",
     "text": [
      "{'FGARAN': {'Dayanak Varlık': 'GARAN', 'Sözleşme Büyüklüğü': 100, 'Teminat': 415, 'Kaldıraç': 5}, 'X30YVADE': {'Dayanak Varlık': 'XU030', 'Sözleşme Büyüklüğü': 10, 'Teminat': 7150, 'Kaldıraç': 8}, 'FTHYAO': {'Dayanak Varlık': 'THYAO', 'Sözleşme Büyüklüğü': 100, 'Teminat': 2525, 'Kaldıraç': 6}}\n"
     ]
    }
   ],
   "source": [
    "# copy methodu: orjinal yerine yedek oluşturduğumuz dict'te çalışmamızı sağlar.\n",
    "# yani yedekte yapılan değişiklikler ana dict'i değiştirmez\n",
    "\n",
    "yedekKontrat = viopKontratlar.copy()\n",
    "\n",
    "print(yedekKontrat)"
   ]
  },
  {
   "cell_type": "code",
   "execution_count": 55,
   "id": "95a66132",
   "metadata": {},
   "outputs": [
    {
     "name": "stdout",
     "output_type": "stream",
     "text": [
      "{'FGARAN': 'FKRDMD', 'X30YVADE': {'Dayanak Varlık': 'XU030', 'Sözleşme Büyüklüğü': 10, 'Teminat': 7150, 'Kaldıraç': 8}, 'FTHYAO': {'Dayanak Varlık': 'THYAO', 'Sözleşme Büyüklüğü': 100, 'Teminat': 2525, 'Kaldıraç': 6}}\n"
     ]
    }
   ],
   "source": [
    "viopKontratlar[\"FGARAN\"] = \"FKRDMD\"\n",
    "\n",
    "print(viopKontratlar)"
   ]
  },
  {
   "cell_type": "code",
   "execution_count": 57,
   "id": "0192974e",
   "metadata": {},
   "outputs": [
    {
     "name": "stdout",
     "output_type": "stream",
     "text": [
      "{'FGARAN': {'Dayanak Varlık': 'GARAN', 'Sözleşme Büyüklüğü': 100, 'Teminat': 415, 'Kaldıraç': 5}, 'X30YVADE': {'Dayanak Varlık': 'XU030', 'Sözleşme Büyüklüğü': 10, 'Teminat': 7150, 'Kaldıraç': 8}, 'FTHYAO': {'Dayanak Varlık': 'THYAO', 'Sözleşme Büyüklüğü': 100, 'Teminat': 2525, 'Kaldıraç': 6}}\n"
     ]
    }
   ],
   "source": [
    "print(yedekKontrat) # yedek olan değişmedi"
   ]
  },
  {
   "cell_type": "code",
   "execution_count": 58,
   "id": "c81a5b27",
   "metadata": {},
   "outputs": [
    {
     "data": {
      "text/plain": [
       "('FTHYAO',\n",
       " {'Dayanak Varlık': 'THYAO',\n",
       "  'Sözleşme Büyüklüğü': 100,\n",
       "  'Teminat': 2525,\n",
       "  'Kaldıraç': 6})"
      ]
     },
     "execution_count": 58,
     "metadata": {},
     "output_type": "execute_result"
    }
   ],
   "source": [
    "viopKontratlar.popitem() # sözlük içinden rastgele birini siler"
   ]
  },
  {
   "cell_type": "code",
   "execution_count": 59,
   "id": "0c47b27d",
   "metadata": {},
   "outputs": [
    {
     "name": "stdout",
     "output_type": "stream",
     "text": [
      "{'FGARAN': 'FKRDMD', 'X30YVADE': {'Dayanak Varlık': 'XU030', 'Sözleşme Büyüklüğü': 10, 'Teminat': 7150, 'Kaldıraç': 8}}\n"
     ]
    }
   ],
   "source": [
    "print(viopKontratlar)"
   ]
  },
  {
   "cell_type": "code",
   "execution_count": null,
   "id": "617b4240",
   "metadata": {},
   "outputs": [],
   "source": []
  }
 ],
 "metadata": {
  "kernelspec": {
   "display_name": "Python 3 (ipykernel)",
   "language": "python",
   "name": "python3"
  },
  "language_info": {
   "codemirror_mode": {
    "name": "ipython",
    "version": 3
   },
   "file_extension": ".py",
   "mimetype": "text/x-python",
   "name": "python",
   "nbconvert_exporter": "python",
   "pygments_lexer": "ipython3",
   "version": "3.10.9"
  }
 },
 "nbformat": 4,
 "nbformat_minor": 5
}
