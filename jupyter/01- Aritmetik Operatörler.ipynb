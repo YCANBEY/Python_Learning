{
 "cells": [
  {
   "cell_type": "code",
   "execution_count": 15,
   "id": "b38e8c9d",
   "metadata": {},
   "outputs": [
    {
     "name": "stdout",
     "output_type": "stream",
     "text": [
      "+ Toplama\n",
      "- Çıkarma\n",
      "* Çarpma\n",
      "/ Bölme\n",
      "** Üs Alma\n",
      "% Mod alma\n",
      "// Tam Bölme\n"
     ]
    }
   ],
   "source": [
    "print(\"+ Toplama\")\n",
    "print(\"- Çıkarma\")\n",
    "print(\"* Çarpma\")\n",
    "print(\"/ Bölme\")\n",
    "print(\"** Üs Alma\")\n",
    "print(\"% Mod alma\")\n",
    "print(\"// Tam Bölme\")\n"
   ]
  },
  {
   "cell_type": "code",
   "execution_count": 16,
   "id": "153e5e54",
   "metadata": {},
   "outputs": [
    {
     "name": "stdout",
     "output_type": "stream",
     "text": [
      "10\n"
     ]
    }
   ],
   "source": [
    "print(5+5)"
   ]
  },
  {
   "cell_type": "code",
   "execution_count": 17,
   "id": "37f4de04",
   "metadata": {},
   "outputs": [
    {
     "name": "stdout",
     "output_type": "stream",
     "text": [
      "108\n"
     ]
    }
   ],
   "source": [
    "print(123-15)"
   ]
  },
  {
   "cell_type": "code",
   "execution_count": 18,
   "id": "54d490cd",
   "metadata": {},
   "outputs": [
    {
     "name": "stdout",
     "output_type": "stream",
     "text": [
      "120\n",
      "8.333333333333334\n",
      "32\n",
      "1\n",
      "8\n"
     ]
    }
   ],
   "source": [
    "print(12*10)\n",
    "print(25/3)\n",
    "print(2**5)\n",
    "print(25%3)\n",
    "print(25//3)"
   ]
  }
 ],
 "metadata": {
  "kernelspec": {
   "display_name": "Python 3 (ipykernel)",
   "language": "python",
   "name": "python3"
  },
  "language_info": {
   "codemirror_mode": {
    "name": "ipython",
    "version": 3
   },
   "file_extension": ".py",
   "mimetype": "text/x-python",
   "name": "python",
   "nbconvert_exporter": "python",
   "pygments_lexer": "ipython3",
   "version": "3.10.9"
  }
 },
 "nbformat": 4,
 "nbformat_minor": 5
}
