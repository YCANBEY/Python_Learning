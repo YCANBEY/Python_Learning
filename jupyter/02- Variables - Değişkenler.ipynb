{
 "cells": [
  {
   "cell_type": "markdown",
   "id": "43f419ea",
   "metadata": {},
   "source": [
    "# Variables - Değişkenler"
   ]
  },
  {
   "cell_type": "code",
   "execution_count": 1,
   "id": "0fa967fe",
   "metadata": {},
   "outputs": [
    {
     "data": {
      "text/plain": [
       "446"
      ]
     },
     "execution_count": 1,
     "metadata": {},
     "output_type": "execute_result"
    }
   ],
   "source": [
    "x = 125\n",
    "y = 3\n",
    "x+5+12+156+145+y"
   ]
  },
  {
   "cell_type": "code",
   "execution_count": 2,
   "id": "2d745612",
   "metadata": {},
   "outputs": [
    {
     "name": "stdout",
     "output_type": "stream",
     "text": [
      "Python\n"
     ]
    }
   ],
   "source": [
    "x = \"Python\"\n",
    "print(x)"
   ]
  },
  {
   "cell_type": "code",
   "execution_count": 3,
   "id": "b5122731",
   "metadata": {},
   "outputs": [
    {
     "name": "stdout",
     "output_type": "stream",
     "text": [
      "PythonPythonPython\n"
     ]
    }
   ],
   "source": [
    "print(x * 3)"
   ]
  },
  {
   "cell_type": "code",
   "execution_count": 4,
   "id": "9ad38f38",
   "metadata": {},
   "outputs": [
    {
     "name": "stdout",
     "output_type": "stream",
     "text": [
      "Python Öğreniyorum\n"
     ]
    }
   ],
   "source": [
    "x = \"Python \"\n",
    "y = \"Öğreniyorum\"\n",
    "print(x + y)"
   ]
  },
  {
   "cell_type": "code",
   "execution_count": null,
   "id": "8335b46d",
   "metadata": {},
   "outputs": [],
   "source": []
  }
 ],
 "metadata": {
  "kernelspec": {
   "display_name": "Python 3 (ipykernel)",
   "language": "python",
   "name": "python3"
  },
  "language_info": {
   "codemirror_mode": {
    "name": "ipython",
    "version": 3
   },
   "file_extension": ".py",
   "mimetype": "text/x-python",
   "name": "python",
   "nbconvert_exporter": "python",
   "pygments_lexer": "ipython3",
   "version": "3.10.9"
  }
 },
 "nbformat": 4,
 "nbformat_minor": 5
}
